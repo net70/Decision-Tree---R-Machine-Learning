{
 "cells": [
  {
   "cell_type": "code",
   "execution_count": 1,
   "metadata": {
    "collapsed": false
   },
   "outputs": [
    {
     "name": "stdout",
     "output_type": "stream",
     "text": [
      "package 'rpart.plot' successfully unpacked and MD5 sums checked\n",
      "\n",
      "The downloaded binary packages are in\n",
      "\tC:\\Users\\net70\\AppData\\Local\\Temp\\RtmpslAN5w\\downloaded_packages\n"
     ]
    },
    {
     "name": "stderr",
     "output_type": "stream",
     "text": [
      "Warning message:\n",
      "\"package 'rpart.plot' was built under R version 3.3.3\""
     ]
    },
    {
     "name": "stdout",
     "output_type": "stream",
     "text": [
      "package 'SDMTools' successfully unpacked and MD5 sums checked\n",
      "\n",
      "The downloaded binary packages are in\n",
      "\tC:\\Users\\net70\\AppData\\Local\\Temp\\RtmpslAN5w\\downloaded_packages\n"
     ]
    },
    {
     "name": "stderr",
     "output_type": "stream",
     "text": [
      "Warning message:\n",
      "\"package 'SDMTools' was built under R version 3.3.3\""
     ]
    }
   ],
   "source": [
    "library(rpart)\n",
    "install.packages('rpart.plot', repos='http://cran.us.r-project.org')\n",
    "library(rpart.plot)\n",
    "install.packages('SDMTools', repos='http://cran.us.r-project.org')\n",
    "library(SDMTools)"
   ]
  },
  {
   "cell_type": "markdown",
   "metadata": {},
   "source": [
    "<img src=\"Decision_Tree_Features.png\">"
   ]
  },
  {
   "cell_type": "code",
   "execution_count": 2,
   "metadata": {
    "collapsed": false
   },
   "outputs": [
    {
     "data": {
      "text/html": [
       "<table>\n",
       "<thead><tr><th scope=col>age</th><th scope=col>ed_new</th><th scope=col>employ</th><th scope=col>address</th><th scope=col>income</th><th scope=col>debtinc</th><th scope=col>creddebt</th><th scope=col>othdebt</th><th scope=col>Rloan</th></tr></thead>\n",
       "<tbody>\n",
       "\t<tr><td>41       </td><td>2        </td><td>17       </td><td>12       </td><td>176      </td><td> 9.3     </td><td>11.359392</td><td>5.008608 </td><td>0        </td></tr>\n",
       "\t<tr><td>27       </td><td>1        </td><td>10       </td><td> 6       </td><td> 31      </td><td>17.3     </td><td> 1.362202</td><td>4.000798 </td><td>1        </td></tr>\n",
       "\t<tr><td>40       </td><td>1        </td><td>15       </td><td>14       </td><td> 55      </td><td> 5.5     </td><td> 0.856075</td><td>2.168925 </td><td>1        </td></tr>\n",
       "\t<tr><td>41       </td><td>1        </td><td>15       </td><td>14       </td><td>120      </td><td> 2.9     </td><td> 2.658720</td><td>0.821280 </td><td>1        </td></tr>\n",
       "\t<tr><td>24       </td><td>1        </td><td> 2       </td><td> 0       </td><td> 28      </td><td>17.3     </td><td> 1.787436</td><td>3.056564 </td><td>0        </td></tr>\n",
       "\t<tr><td>41       </td><td>1        </td><td> 5       </td><td> 5       </td><td> 25      </td><td>10.2     </td><td> 0.392700</td><td>2.157300 </td><td>1        </td></tr>\n",
       "</tbody>\n",
       "</table>\n"
      ],
      "text/latex": [
       "\\begin{tabular}{r|lllllllll}\n",
       " age & ed\\_new & employ & address & income & debtinc & creddebt & othdebt & Rloan\\\\\n",
       "\\hline\n",
       "\t 41        & 2         & 17        & 12        & 176       &  9.3      & 11.359392 & 5.008608  & 0        \\\\\n",
       "\t 27        & 1         & 10        &  6        &  31       & 17.3      &  1.362202 & 4.000798  & 1        \\\\\n",
       "\t 40        & 1         & 15        & 14        &  55       &  5.5      &  0.856075 & 2.168925  & 1        \\\\\n",
       "\t 41        & 1         & 15        & 14        & 120       &  2.9      &  2.658720 & 0.821280  & 1        \\\\\n",
       "\t 24        & 1         &  2        &  0        &  28       & 17.3      &  1.787436 & 3.056564  & 0        \\\\\n",
       "\t 41        & 1         &  5        &  5        &  25       & 10.2      &  0.392700 & 2.157300  & 1        \\\\\n",
       "\\end{tabular}\n"
      ],
      "text/markdown": [
       "\n",
       "age | ed_new | employ | address | income | debtinc | creddebt | othdebt | Rloan | \n",
       "|---|---|---|---|---|---|\n",
       "| 41        | 2         | 17        | 12        | 176       |  9.3      | 11.359392 | 5.008608  | 0         | \n",
       "| 27        | 1         | 10        |  6        |  31       | 17.3      |  1.362202 | 4.000798  | 1         | \n",
       "| 40        | 1         | 15        | 14        |  55       |  5.5      |  0.856075 | 2.168925  | 1         | \n",
       "| 41        | 1         | 15        | 14        | 120       |  2.9      |  2.658720 | 0.821280  | 1         | \n",
       "| 24        | 1         |  2        |  0        |  28       | 17.3      |  1.787436 | 3.056564  | 0         | \n",
       "| 41        | 1         |  5        |  5        |  25       | 10.2      |  0.392700 | 2.157300  | 1         | \n",
       "\n",
       "\n"
      ],
      "text/plain": [
       "  age ed_new employ address income debtinc creddebt  othdebt  Rloan\n",
       "1 41  2      17     12      176     9.3    11.359392 5.008608 0    \n",
       "2 27  1      10      6       31    17.3     1.362202 4.000798 1    \n",
       "3 40  1      15     14       55     5.5     0.856075 2.168925 1    \n",
       "4 41  1      15     14      120     2.9     2.658720 0.821280 1    \n",
       "5 24  1       2      0       28    17.3     1.787436 3.056564 0    \n",
       "6 41  1       5      5       25    10.2     0.392700 2.157300 1    "
      ]
     },
     "metadata": {},
     "output_type": "display_data"
    }
   ],
   "source": [
    "myData = read.csv(\"loan.csv\")\n",
    "head(myData)"
   ]
  },
  {
   "cell_type": "code",
   "execution_count": 3,
   "metadata": {
    "collapsed": false
   },
   "outputs": [],
   "source": [
    "myData[,9] = factor(myData[,9], labels= c(\"no\", \"yes\"))\n",
    "myData[,2] = factor(myData[,2])"
   ]
  },
  {
   "cell_type": "code",
   "execution_count": 4,
   "metadata": {
    "collapsed": false
   },
   "outputs": [
    {
     "data": {
      "text/html": [
       "<table>\n",
       "<thead><tr><th scope=col>age</th><th scope=col>ed_new</th><th scope=col>employ</th><th scope=col>address</th><th scope=col>income</th><th scope=col>debtinc</th><th scope=col>creddebt</th><th scope=col>othdebt</th><th scope=col>Rloan</th></tr></thead>\n",
       "<tbody>\n",
       "\t<tr><td>41       </td><td>2        </td><td>17       </td><td>12       </td><td>176      </td><td> 9.3     </td><td>11.359392</td><td>5.008608 </td><td>no       </td></tr>\n",
       "\t<tr><td>27       </td><td>1        </td><td>10       </td><td> 6       </td><td> 31      </td><td>17.3     </td><td> 1.362202</td><td>4.000798 </td><td>yes      </td></tr>\n",
       "\t<tr><td>40       </td><td>1        </td><td>15       </td><td>14       </td><td> 55      </td><td> 5.5     </td><td> 0.856075</td><td>2.168925 </td><td>yes      </td></tr>\n",
       "\t<tr><td>41       </td><td>1        </td><td>15       </td><td>14       </td><td>120      </td><td> 2.9     </td><td> 2.658720</td><td>0.821280 </td><td>yes      </td></tr>\n",
       "\t<tr><td>24       </td><td>1        </td><td> 2       </td><td> 0       </td><td> 28      </td><td>17.3     </td><td> 1.787436</td><td>3.056564 </td><td>no       </td></tr>\n",
       "\t<tr><td>41       </td><td>1        </td><td> 5       </td><td> 5       </td><td> 25      </td><td>10.2     </td><td> 0.392700</td><td>2.157300 </td><td>yes      </td></tr>\n",
       "</tbody>\n",
       "</table>\n"
      ],
      "text/latex": [
       "\\begin{tabular}{r|lllllllll}\n",
       " age & ed\\_new & employ & address & income & debtinc & creddebt & othdebt & Rloan\\\\\n",
       "\\hline\n",
       "\t 41        & 2         & 17        & 12        & 176       &  9.3      & 11.359392 & 5.008608  & no       \\\\\n",
       "\t 27        & 1         & 10        &  6        &  31       & 17.3      &  1.362202 & 4.000798  & yes      \\\\\n",
       "\t 40        & 1         & 15        & 14        &  55       &  5.5      &  0.856075 & 2.168925  & yes      \\\\\n",
       "\t 41        & 1         & 15        & 14        & 120       &  2.9      &  2.658720 & 0.821280  & yes      \\\\\n",
       "\t 24        & 1         &  2        &  0        &  28       & 17.3      &  1.787436 & 3.056564  & no       \\\\\n",
       "\t 41        & 1         &  5        &  5        &  25       & 10.2      &  0.392700 & 2.157300  & yes      \\\\\n",
       "\\end{tabular}\n"
      ],
      "text/markdown": [
       "\n",
       "age | ed_new | employ | address | income | debtinc | creddebt | othdebt | Rloan | \n",
       "|---|---|---|---|---|---|\n",
       "| 41        | 2         | 17        | 12        | 176       |  9.3      | 11.359392 | 5.008608  | no        | \n",
       "| 27        | 1         | 10        |  6        |  31       | 17.3      |  1.362202 | 4.000798  | yes       | \n",
       "| 40        | 1         | 15        | 14        |  55       |  5.5      |  0.856075 | 2.168925  | yes       | \n",
       "| 41        | 1         | 15        | 14        | 120       |  2.9      |  2.658720 | 0.821280  | yes       | \n",
       "| 24        | 1         |  2        |  0        |  28       | 17.3      |  1.787436 | 3.056564  | no        | \n",
       "| 41        | 1         |  5        |  5        |  25       | 10.2      |  0.392700 | 2.157300  | yes       | \n",
       "\n",
       "\n"
      ],
      "text/plain": [
       "  age ed_new employ address income debtinc creddebt  othdebt  Rloan\n",
       "1 41  2      17     12      176     9.3    11.359392 5.008608 no   \n",
       "2 27  1      10      6       31    17.3     1.362202 4.000798 yes  \n",
       "3 40  1      15     14       55     5.5     0.856075 2.168925 yes  \n",
       "4 41  1      15     14      120     2.9     2.658720 0.821280 yes  \n",
       "5 24  1       2      0       28    17.3     1.787436 3.056564 no   \n",
       "6 41  1       5      5       25    10.2     0.392700 2.157300 yes  "
      ]
     },
     "metadata": {},
     "output_type": "display_data"
    }
   ],
   "source": [
    "head(myData)"
   ]
  },
  {
   "cell_type": "code",
   "execution_count": 5,
   "metadata": {
    "collapsed": true
   },
   "outputs": [],
   "source": [
    "set.seed(1234)"
   ]
  },
  {
   "cell_type": "code",
   "execution_count": 6,
   "metadata": {
    "collapsed": false
   },
   "outputs": [],
   "source": [
    "myData$sampling = runif(nrow(myData)) "
   ]
  },
  {
   "cell_type": "code",
   "execution_count": 7,
   "metadata": {
    "collapsed": false
   },
   "outputs": [],
   "source": [
    "test_set = subset(myData, myData$sampling <= 0.3)\n",
    "test_set = test_set[, !names(trainingSet) %in% c(\"sampling\")]\n",
    "train_set = subset(myData, myData$sampling > 0.3)\n",
    "train_set = train_set[, !names(trainingSet) %in% c(\"sampling\")]"
   ]
  },
  {
   "cell_type": "code",
   "execution_count": 8,
   "metadata": {
    "collapsed": false
   },
   "outputs": [
    {
     "data": {
      "text/plain": [
       "n= 509 \n",
       "\n",
       "node), split, n, loss, yval, (yprob)\n",
       "      * denotes terminal node\n",
       "\n",
       " 1) root 509 132 yes (0.25933202 0.74066798)  \n",
       "   2) debtinc>=14.75 119  51 no (0.57142857 0.42857143)  \n",
       "     4) debtinc>=24.65 21   2 no (0.90476190 0.09523810) *\n",
       "     5) debtinc< 24.65 98  49 no (0.50000000 0.50000000)  \n",
       "      10) employ< 6.5 53  17 no (0.67924528 0.32075472) *\n",
       "      11) employ>=6.5 45  13 yes (0.28888889 0.71111111) *\n",
       "   3) debtinc< 14.75 390  64 yes (0.16410256 0.83589744)  \n",
       "     6) employ< 4.5 128  50 yes (0.39062500 0.60937500)  \n",
       "      12) address< 6.5 86  42 yes (0.48837209 0.51162791)  \n",
       "        24) creddebt>=0.270204 54  21 no (0.61111111 0.38888889) *\n",
       "        25) creddebt< 0.270204 32   9 yes (0.28125000 0.71875000) *\n",
       "      13) address>=6.5 42   8 yes (0.19047619 0.80952381) *\n",
       "     7) employ>=4.5 262  14 yes (0.05343511 0.94656489) *"
      ]
     },
     "metadata": {},
     "output_type": "display_data"
    }
   ],
   "source": [
    "tree = rpart(Rloan~., train_set, method=\"class\", control=rpart.control(minsplit=50))\n",
    "tree"
   ]
  },
  {
   "cell_type": "code",
   "execution_count": 9,
   "metadata": {
    "collapsed": false
   },
   "outputs": [
    {
     "data": {
      "image/png": "[encoded data removed]",
      "text/plain": [
       "plot without title"
      ]
     },
     "metadata": {},
     "output_type": "display_data"
    }
   ],
   "source": [
    "rpart.plot(tree, type = 2,extra=104,cex=0.8, box.palette=\"GnBu\",nn=TRUE)"
   ]
  },
  {
   "cell_type": "markdown",
   "metadata": {
    "collapsed": true
   },
   "source": [
    "1) Tree has 7 Treminal nodeswith 6 layres<br>\n",
    "2) The tree independent variables - debtinc, employ, address, creddebt. best predictor is debtinc.<br>\n",
    "3) Let's imagine someone named Yossi. Yossi is 30 years old, his debtinc=10, employed 4 years at the same place with 40k$     income, lives in his current address for 6 years with a creddebt of 0.3 . How would our Tree Classify him?\n",
    "Seems Yossi is classified as someone who would'nt be able to return his loan."
   ]
  },
  {
   "cell_type": "code",
   "execution_count": 10,
   "metadata": {
    "collapsed": false
   },
   "outputs": [],
   "source": [
    "predTrain = predict(tree, train_set, type=\"class\")\n",
    "train_set$prediction = factor(predTrain, labels=c(\"no\", \"yes\"))"
   ]
  },
  {
   "cell_type": "code",
   "execution_count": 11,
   "metadata": {
    "collapsed": false
   },
   "outputs": [
    {
     "data": {
      "text/html": [
       "<table>\n",
       "<thead><tr><th></th><th scope=col>no</th><th scope=col>yes</th><th scope=col>Sum</th></tr></thead>\n",
       "<tbody>\n",
       "\t<tr><th scope=row>no</th><td> 88</td><td> 44</td><td>132</td></tr>\n",
       "\t<tr><th scope=row>yes</th><td> 40</td><td>337</td><td>377</td></tr>\n",
       "\t<tr><th scope=row>Sum</th><td>128</td><td>381</td><td>509</td></tr>\n",
       "</tbody>\n",
       "</table>\n"
      ],
      "text/latex": [
       "\\begin{tabular}{r|lll}\n",
       "  & no & yes & Sum\\\\\n",
       "\\hline\n",
       "\tno &  88 &  44 & 132\\\\\n",
       "\tyes &  40 & 337 & 377\\\\\n",
       "\tSum & 128 & 381 & 509\\\\\n",
       "\\end{tabular}\n"
      ],
      "text/markdown": [
       "\n",
       "| <!--/--> | no | yes | Sum | \n",
       "|---|---|---|\n",
       "| no |  88 |  44 | 132 | \n",
       "| yes |  40 | 337 | 377 | \n",
       "| Sum | 128 | 381 | 509 | \n",
       "\n",
       "\n"
      ],
      "text/plain": [
       "     pred\n",
       "truth no  yes Sum\n",
       "  no   88  44 132\n",
       "  yes  40 337 377\n",
       "  Sum 128 381 509"
      ]
     },
     "metadata": {},
     "output_type": "display_data"
    },
    {
     "data": {
      "text/plain": [
       "     pred\n",
       "truth  no yes\n",
       "  no   88  44\n",
       "  yes  40 337"
      ]
     },
     "metadata": {},
     "output_type": "display_data"
    }
   ],
   "source": [
    "cmatTrain = table(truth=train_set$Rloan, pred=train_set$prediction)\n",
    "addmargins(cmatTrain)\n",
    "cmatTrain"
   ]
  },
  {
   "cell_type": "code",
   "execution_count": 12,
   "metadata": {
    "collapsed": false
   },
   "outputs": [],
   "source": [
    "Accuracy = (cmatTrain[1,1] + cmatTrain[2,2])/sum(cmatTrain)\n",
    "Precision = cmatTrain[2,2] / (cmatTrain[2,2]+cmatTrain[1,2])\n",
    "Sensitivity = cmatTrain[2,2] / (cmatTrain[2,2]+cmatTrain[2,1])\n",
    "Specificity = cmatTrain[1,1] / (cmatTrain[1,1]+cmatTrain[1,2])"
   ]
  },
  {
   "cell_type": "markdown",
   "metadata": {},
   "source": [
    "Accuracy is the ratio of correct predictions, (both positive and negative) to all predictions."
   ]
  },
  {
   "cell_type": "code",
   "execution_count": 13,
   "metadata": {
    "collapsed": false
   },
   "outputs": [
    {
     "data": {
      "text/html": [
       "0.834970530451866"
      ],
      "text/latex": [
       "0.834970530451866"
      ],
      "text/markdown": [
       "0.834970530451866"
      ],
      "text/plain": [
       "[1] 0.8349705"
      ]
     },
     "metadata": {},
     "output_type": "display_data"
    }
   ],
   "source": [
    "Accuracy"
   ]
  },
  {
   "cell_type": "markdown",
   "metadata": {},
   "source": [
    "Precision (positive predictive value) measures the accuracy of the classifier, when it predicts an example to be positive (True Positive)."
   ]
  },
  {
   "cell_type": "code",
   "execution_count": 14,
   "metadata": {
    "collapsed": false
   },
   "outputs": [
    {
     "data": {
      "text/html": [
       "0.884514435695538"
      ],
      "text/latex": [
       "0.884514435695538"
      ],
      "text/markdown": [
       "0.884514435695538"
      ],
      "text/plain": [
       "[1] 0.8845144"
      ]
     },
     "metadata": {},
     "output_type": "display_data"
    }
   ],
   "source": [
    "Precision"
   ]
  },
  {
   "cell_type": "markdown",
   "metadata": {},
   "source": [
    "Sensitivity is the ratio of all the correctly predicted positive examples (True Positive) to all the positive examples in the data"
   ]
  },
  {
   "cell_type": "code",
   "execution_count": 15,
   "metadata": {
    "collapsed": false
   },
   "outputs": [
    {
     "data": {
      "text/html": [
       "0.893899204244032"
      ],
      "text/latex": [
       "0.893899204244032"
      ],
      "text/markdown": [
       "0.893899204244032"
      ],
      "text/plain": [
       "[1] 0.8938992"
      ]
     },
     "metadata": {},
     "output_type": "display_data"
    }
   ],
   "source": [
    "Sensitivity"
   ]
  },
  {
   "cell_type": "markdown",
   "metadata": {},
   "source": [
    "Specificity measures the true negative rate: the proportion of negatives that are correctly identified."
   ]
  },
  {
   "cell_type": "code",
   "execution_count": 16,
   "metadata": {
    "collapsed": false
   },
   "outputs": [
    {
     "data": {
      "text/html": [
       "0.666666666666667"
      ],
      "text/latex": [
       "0.666666666666667"
      ],
      "text/markdown": [
       "0.666666666666667"
      ],
      "text/plain": [
       "[1] 0.6666667"
      ]
     },
     "metadata": {},
     "output_type": "display_data"
    }
   ],
   "source": [
    "Specificity"
   ]
  },
  {
   "cell_type": "code",
   "execution_count": 17,
   "metadata": {
    "collapsed": true
   },
   "outputs": [],
   "source": [
    "predTest = predict(tree, test_set, type=\"class\")\n",
    "test_set$prediction = factor(predTest, labels=c(\"no\", \"yes\"))"
   ]
  },
  {
   "cell_type": "code",
   "execution_count": 18,
   "metadata": {
    "collapsed": false
   },
   "outputs": [
    {
     "data": {
      "text/html": [
       "<table>\n",
       "<thead><tr><th></th><th scope=col>no</th><th scope=col>yes</th><th scope=col>Sum</th></tr></thead>\n",
       "<tbody>\n",
       "\t<tr><th scope=row>no</th><td>20 </td><td> 31</td><td> 51</td></tr>\n",
       "\t<tr><th scope=row>yes</th><td>24 </td><td>116</td><td>140</td></tr>\n",
       "\t<tr><th scope=row>Sum</th><td>44 </td><td>147</td><td>191</td></tr>\n",
       "</tbody>\n",
       "</table>\n"
      ],
      "text/latex": [
       "\\begin{tabular}{r|lll}\n",
       "  & no & yes & Sum\\\\\n",
       "\\hline\n",
       "\tno & 20  &  31 &  51\\\\\n",
       "\tyes & 24  & 116 & 140\\\\\n",
       "\tSum & 44  & 147 & 191\\\\\n",
       "\\end{tabular}\n"
      ],
      "text/markdown": [
       "\n",
       "| <!--/--> | no | yes | Sum | \n",
       "|---|---|---|\n",
       "| no | 20  |  31 |  51 | \n",
       "| yes | 24  | 116 | 140 | \n",
       "| Sum | 44  | 147 | 191 | \n",
       "\n",
       "\n"
      ],
      "text/plain": [
       "     pred\n",
       "truth no yes Sum\n",
       "  no  20  31  51\n",
       "  yes 24 116 140\n",
       "  Sum 44 147 191"
      ]
     },
     "metadata": {},
     "output_type": "display_data"
    },
    {
     "data": {
      "text/plain": [
       "     pred\n",
       "truth  no yes\n",
       "  no   20  31\n",
       "  yes  24 116"
      ]
     },
     "metadata": {},
     "output_type": "display_data"
    }
   ],
   "source": [
    "cmatTest = table(truth=test_set$Rloan, pred=test_set$prediction)\n",
    "addmargins(cmatTest)\n",
    "cmatTest"
   ]
  },
  {
   "cell_type": "code",
   "execution_count": 19,
   "metadata": {
    "collapsed": true
   },
   "outputs": [],
   "source": [
    "Accuracy = (cmatTest[1,1] + cmatTest[2,2])/sum(cmatTest)\n",
    "Precision = cmatTest[2,2] / (cmatTest[2,2]+cmatTest[1,2])\n",
    "Sensitivity = cmatTest[2,2] / (cmatTest[2,2]+cmatTest[2,1])\n",
    "Specificity = cmatTest[1,1] / (cmatTest[1,1]+cmatTest[1,2])"
   ]
  },
  {
   "cell_type": "code",
   "execution_count": 20,
   "metadata": {
    "collapsed": false
   },
   "outputs": [
    {
     "data": {
      "text/html": [
       "0.712041884816754"
      ],
      "text/latex": [
       "0.712041884816754"
      ],
      "text/markdown": [
       "0.712041884816754"
      ],
      "text/plain": [
       "[1] 0.7120419"
      ]
     },
     "metadata": {},
     "output_type": "display_data"
    }
   ],
   "source": [
    "Accuracy"
   ]
  },
  {
   "cell_type": "code",
   "execution_count": 21,
   "metadata": {
    "collapsed": false
   },
   "outputs": [
    {
     "data": {
      "text/html": [
       "0.789115646258503"
      ],
      "text/latex": [
       "0.789115646258503"
      ],
      "text/markdown": [
       "0.789115646258503"
      ],
      "text/plain": [
       "[1] 0.7891156"
      ]
     },
     "metadata": {},
     "output_type": "display_data"
    }
   ],
   "source": [
    "Precision"
   ]
  },
  {
   "cell_type": "code",
   "execution_count": 22,
   "metadata": {
    "collapsed": false
   },
   "outputs": [
    {
     "data": {
      "text/html": [
       "0.828571428571429"
      ],
      "text/latex": [
       "0.828571428571429"
      ],
      "text/markdown": [
       "0.828571428571429"
      ],
      "text/plain": [
       "[1] 0.8285714"
      ]
     },
     "metadata": {},
     "output_type": "display_data"
    }
   ],
   "source": [
    "Sensitivity"
   ]
  },
  {
   "cell_type": "code",
   "execution_count": 23,
   "metadata": {
    "collapsed": false
   },
   "outputs": [
    {
     "data": {
      "text/html": [
       "0.392156862745098"
      ],
      "text/latex": [
       "0.392156862745098"
      ],
      "text/markdown": [
       "0.392156862745098"
      ],
      "text/plain": [
       "[1] 0.3921569"
      ]
     },
     "metadata": {},
     "output_type": "display_data"
    }
   ],
   "source": [
    "Specificity"
   ]
  },
  {
   "cell_type": "markdown",
   "metadata": {},
   "source": [
    "Seems that our model has a 70%-80% efficiancy of prediction, which is not the best. Its weak spot is the abillity to accuratly identify False Positives."
   ]
  }
 ],
 "metadata": {
  "kernelspec": {
   "display_name": "R",
   "language": "R",
   "name": "ir"
  },
  "language_info": {
   "codemirror_mode": "r",
   "file_extension": ".r",
   "mimetype": "text/x-r-source",
   "name": "R",
   "pygments_lexer": "r",
   "version": "3.3.2"
  }
 },
 "nbformat": 4,
 "nbformat_minor": 2
}
